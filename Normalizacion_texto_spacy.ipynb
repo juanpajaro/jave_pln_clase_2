{
  "nbformat": 4,
  "nbformat_minor": 0,
  "metadata": {
    "colab": {
      "provenance": [],
      "authorship_tag": "ABX9TyOdCIOHYAxY6DKaxUP1nzhY",
      "include_colab_link": true
    },
    "kernelspec": {
      "name": "python3",
      "display_name": "Python 3"
    },
    "language_info": {
      "name": "python"
    }
  },
  "cells": [
    {
      "cell_type": "markdown",
      "metadata": {
        "id": "view-in-github",
        "colab_type": "text"
      },
      "source": [
        "<a href=\"https://colab.research.google.com/github/juanpajaro/jave_pln_clase_2/blob/main/Normalizacion_texto_spacy.ipynb\" target=\"_parent\"><img src=\"https://colab.research.google.com/assets/colab-badge.svg\" alt=\"Open In Colab\"/></a>"
      ]
    },
    {
      "cell_type": "code",
      "execution_count": null,
      "metadata": {
        "id": "FgVhRNfdMZsY"
      },
      "outputs": [],
      "source": [
        "!pip install -U pip setuptools wheel"
      ]
    },
    {
      "cell_type": "code",
      "source": [
        "!pip install -U spacy"
      ],
      "metadata": {
        "id": "pityD3dgSUDB"
      },
      "execution_count": null,
      "outputs": []
    },
    {
      "cell_type": "code",
      "source": [
        "!python -m spacy download es_core_news_sm"
      ],
      "metadata": {
        "id": "JbSs_fhJSbzT"
      },
      "execution_count": null,
      "outputs": []
    },
    {
      "cell_type": "code",
      "source": [
        "import spacy"
      ],
      "metadata": {
        "id": "8W1Pz8fNTHWO"
      },
      "execution_count": null,
      "outputs": []
    },
    {
      "cell_type": "code",
      "source": [
        "nlp = spacy.load(\"es_core_news_sm\")"
      ],
      "metadata": {
        "id": "IAJdBYYeSg42"
      },
      "execution_count": null,
      "outputs": []
    },
    {
      "cell_type": "code",
      "source": [
        "nlp.pipe_names"
      ],
      "metadata": {
        "id": "ZFwafN7Qrfij"
      },
      "execution_count": null,
      "outputs": []
    },
    {
      "cell_type": "code",
      "source": [
        "from spacy.lang.es.examples import sentences"
      ],
      "metadata": {
        "id": "Mk_ehpXpTaoi"
      },
      "execution_count": null,
      "outputs": []
    },
    {
      "cell_type": "code",
      "source": [
        "print(type(sentences))\n",
        "print(len(sentences))"
      ],
      "metadata": {
        "id": "7expGKUnThDe"
      },
      "execution_count": null,
      "outputs": []
    },
    {
      "cell_type": "code",
      "source": [
        "texto_prueba_2 = ['Pablito', 'clavó', 'un', 'clavito', 'cuantos', 'clavitos', 'clava', 'pablito']\n",
        "doc = nlp(texto_prueba_2)\n",
        "for token in doc:\n",
        "    print(token.lemma_)"
      ],
      "metadata": {
        "id": "2rx1zKEMjtuH"
      },
      "execution_count": null,
      "outputs": []
    },
    {
      "cell_type": "code",
      "source": [
        "texto_prueba_2 = \"Pablito clavó un clavito cuantos clavitos clava pablito\"\n",
        "doc = nlp(texto_prueba_2)\n",
        "for token in doc:\n",
        "    print(token.lemma_)"
      ],
      "metadata": {
        "id": "LlnpebbekjyK"
      },
      "execution_count": null,
      "outputs": []
    },
    {
      "cell_type": "code",
      "source": [
        "#Aplicar stemming usando spacy (ejercicio)"
      ],
      "metadata": {
        "id": "R6cpevN7lZY7"
      },
      "execution_count": null,
      "outputs": []
    },
    {
      "cell_type": "code",
      "source": [
        "print(sentences[0])\n",
        "print(sentences[1])\n",
        "print(sentences[4])\n",
        "print(sentences[11])"
      ],
      "metadata": {
        "id": "cY4dahLiTj-T"
      },
      "execution_count": null,
      "outputs": []
    },
    {
      "cell_type": "code",
      "source": [
        "doc = nlp(sentences[0])\n",
        "print(doc.text)\n",
        "for token in doc:\n",
        "    print(token.text, token.pos_, token.dep_)"
      ],
      "metadata": {
        "id": "LraqlzzbTFct"
      },
      "execution_count": null,
      "outputs": []
    },
    {
      "cell_type": "code",
      "source": [
        "nlp.pipe_names"
      ],
      "metadata": {
        "id": "YSNi0TTSTS48"
      },
      "execution_count": null,
      "outputs": []
    },
    {
      "cell_type": "code",
      "source": [
        "doc.ents"
      ],
      "metadata": {
        "id": "ksh-nxrtT5wO"
      },
      "execution_count": null,
      "outputs": []
    },
    {
      "cell_type": "code",
      "source": [
        "for token in doc:\n",
        "    print(token.lemma_)"
      ],
      "metadata": {
        "id": "Qf4YAm5TU5Y7"
      },
      "execution_count": null,
      "outputs": []
    },
    {
      "cell_type": "code",
      "source": [
        "for token in doc:\n",
        "    print(token.text, token.morph)"
      ],
      "metadata": {
        "id": "zXVM12MEVtPo"
      },
      "execution_count": null,
      "outputs": []
    },
    {
      "cell_type": "code",
      "source": [
        "from spacy import displacy"
      ],
      "metadata": {
        "id": "GFBKwZqUYU3x"
      },
      "execution_count": null,
      "outputs": []
    },
    {
      "cell_type": "code",
      "source": [
        "print(doc)"
      ],
      "metadata": {
        "id": "79wOzMmgZPB7"
      },
      "execution_count": null,
      "outputs": []
    },
    {
      "cell_type": "code",
      "source": [
        "displacy.render(doc,style=\"ent\",jupyter=True)"
      ],
      "metadata": {
        "id": "eHyM5qy_YXyq"
      },
      "execution_count": null,
      "outputs": []
    },
    {
      "cell_type": "code",
      "source": [
        "sentences_example = \"Colombia es un país con mucha biodiversidad.\""
      ],
      "metadata": {
        "id": "-1h2GfmyTrv6"
      },
      "execution_count": null,
      "outputs": []
    },
    {
      "cell_type": "code",
      "source": [
        "doc_example = nlp(sentences_example)"
      ],
      "metadata": {
        "id": "QpL0Vm5IT2cu"
      },
      "execution_count": null,
      "outputs": []
    },
    {
      "cell_type": "code",
      "source": [
        "for token in doc_example:\n",
        "    print(token.lemma_)"
      ],
      "metadata": {
        "id": "kflH_gXrM4Gq"
      },
      "execution_count": null,
      "outputs": []
    },
    {
      "cell_type": "code",
      "source": [
        "displacy.render(doc_example,style=\"ent\",jupyter=True)"
      ],
      "metadata": {
        "id": "PRUuX_8hT7r7"
      },
      "execution_count": null,
      "outputs": []
    },
    {
      "cell_type": "code",
      "source": [
        "displacy.render(doc_example,style=\"dep\",jupyter=True)"
      ],
      "metadata": {
        "id": "iGtvjpifZyJ8"
      },
      "execution_count": null,
      "outputs": []
    },
    {
      "cell_type": "code",
      "source": [],
      "metadata": {
        "id": "E7J8emJoMxaN"
      },
      "execution_count": null,
      "outputs": []
    }
  ]
}