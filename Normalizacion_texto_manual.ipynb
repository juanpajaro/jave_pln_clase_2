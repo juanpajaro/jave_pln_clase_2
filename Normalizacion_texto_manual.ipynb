{
  "nbformat": 4,
  "nbformat_minor": 0,
  "metadata": {
    "colab": {
      "provenance": [],
      "authorship_tag": "ABX9TyNeMnatunJm3+YEx8xNJzes",
      "include_colab_link": true
    },
    "kernelspec": {
      "name": "python3",
      "display_name": "Python 3"
    },
    "language_info": {
      "name": "python"
    }
  },
  "cells": [
    {
      "cell_type": "markdown",
      "metadata": {
        "id": "view-in-github",
        "colab_type": "text"
      },
      "source": [
        "<a href=\"https://colab.research.google.com/github/juanpajaro/jave_pln_clase_2/blob/main/Normalizacion_texto_manual.ipynb\" target=\"_parent\"><img src=\"https://colab.research.google.com/assets/colab-badge.svg\" alt=\"Open In Colab\"/></a>"
      ]
    },
    {
      "cell_type": "code",
      "source": [
        "import nltk\n",
        "from nltk.stem import SnowballStemmer\n",
        "from nltk.stem import WordNetLemmatizer\n",
        "import re\n",
        "\n",
        "nltk.download('stopwords')\n",
        "nltk.download('wordnet')"
      ],
      "metadata": {
        "id": "GafaCG6uvD66"
      },
      "execution_count": null,
      "outputs": []
    },
    {
      "cell_type": "code",
      "execution_count": null,
      "metadata": {
        "id": "MoiGCDsYufWa"
      },
      "outputs": [],
      "source": [
        "ejemplo_paciente = 'Paciente masculino de 36 años, sin antecedentes, consulta por cuadro clínico de 3 días de evolución de talopodalgia predominio plantas del pie izquierdo de aparición espontánea atraumática con limitación funcional, el dolor agudiza con el apoyo completo y prolongado del pie, limitación a la plantiflexión, EVA 7-8/10, automedicación: dolex sin modulación del dolor, no consultas a urgencias recientes, no dolot torácico, no disnea, no palpitaciones, no edemas, no síncopes, no convulsiones, no alteraciones en hábito urinario o intestinal, no lesiones en piel, no distermías, asintomático respiratorio, sin otros referidos.'"
      ]
    },
    {
      "cell_type": "code",
      "source": [
        "ejemplo_paciente"
      ],
      "metadata": {
        "id": "c907DyxHu0Q2"
      },
      "execution_count": null,
      "outputs": []
    },
    {
      "cell_type": "code",
      "source": [
        "#convertir a minúsculas\n",
        "def texto_en_minusculas(texto):\n",
        "  texto_en_minusculas = re.sub(r'[^\\w\\s]', '', str(texto)).lower().strip()\n",
        "  return texto_en_minusculas"
      ],
      "metadata": {
        "id": "4DLVw_Fcu3zl"
      },
      "execution_count": null,
      "outputs": []
    },
    {
      "cell_type": "code",
      "source": [
        "texto_en_minusculas(\" esto es una PRUEBA de la FUNCION ANTERIOR  \")"
      ],
      "metadata": {
        "id": "pFhyQq_Iu-EN"
      },
      "execution_count": null,
      "outputs": []
    },
    {
      "cell_type": "code",
      "source": [
        "pcte_en_minuscula = texto_en_minusculas(ejemplo_paciente)\n",
        "print(pcte_en_minuscula)"
      ],
      "metadata": {
        "id": "DaPMJeJbnDj7"
      },
      "execution_count": null,
      "outputs": []
    },
    {
      "cell_type": "code",
      "source": [
        "nltk_stopwords = nltk.corpus.stopwords.words(\"spanish\")"
      ],
      "metadata": {
        "id": "GGTR1r8lvda2"
      },
      "execution_count": null,
      "outputs": []
    },
    {
      "cell_type": "code",
      "source": [
        "print(nltk_stopwords)"
      ],
      "metadata": {
        "id": "G5TF4EPcnSdX"
      },
      "execution_count": null,
      "outputs": []
    },
    {
      "cell_type": "code",
      "source": [
        "#tokenizar y remover stopword extendido\n",
        "def remover_stopword_ext(texto):\n",
        "  tokens_en_texto = texto.split()\n",
        "  lista_sin_stopword = []\n",
        "  for word in tokens_en_texto:\n",
        "    if word not in nltk_stopwords:\n",
        "      lista_sin_stopword.append(word)\n",
        "  return lista_sin_stopword"
      ],
      "metadata": {
        "id": "-a77A3bJvBjJ"
      },
      "execution_count": null,
      "outputs": []
    },
    {
      "cell_type": "code",
      "source": [
        "texto_sin_stopw = remover_stopword_ext(\"Esto es una PRUEBA de la FUNCION anterior, tuviste, tenido, tened, es\")\n",
        "print(texto_sin_stopw)\n",
        "print(type(texto_sin_stopw))"
      ],
      "metadata": {
        "id": "PpoKKIG7vcWF"
      },
      "execution_count": null,
      "outputs": []
    },
    {
      "cell_type": "code",
      "source": [
        "pcte_sin_stopw = remover_stopword_ext(pcte_en_minuscula)\n",
        "print(pcte_sin_stopw)"
      ],
      "metadata": {
        "id": "fgqW9tS1neNB"
      },
      "execution_count": null,
      "outputs": []
    },
    {
      "cell_type": "code",
      "source": [
        "#Definir el objeto stemming\n",
        "stemmer = SnowballStemmer('spanish')"
      ],
      "metadata": {
        "id": "xjGYhpJCy4oH"
      },
      "execution_count": null,
      "outputs": []
    },
    {
      "cell_type": "code",
      "source": [
        "#Funcion stemming\n",
        "def stemming_nltk(texto):\n",
        "  stemmed_text = []\n",
        "  for i in texto:\n",
        "    stemmed_text.append(stemmer.stem(i))\n",
        "\n",
        "  return stemmed_text"
      ],
      "metadata": {
        "id": "0gL2LBXovhMZ"
      },
      "execution_count": null,
      "outputs": []
    },
    {
      "cell_type": "code",
      "source": [
        "#stemming_nltk(texto_sin_stopw)\n",
        "texto_prueba_2 = ['Pablito', 'clavó', 'un', 'clavito', 'cuantos', 'clavitos', 'clava', 'pablito']\n",
        "stemming_nltk(texto_prueba_2)"
      ],
      "metadata": {
        "id": "NrEoIlXBzGBf"
      },
      "execution_count": null,
      "outputs": []
    },
    {
      "cell_type": "code",
      "source": [
        "#Definir el objeto Lemmatization\n",
        "wnl = WordNetLemmatizer()"
      ],
      "metadata": {
        "id": "ku-Xl-1AzSpq"
      },
      "execution_count": null,
      "outputs": []
    },
    {
      "cell_type": "code",
      "source": [
        "#Funcion lemmatization\n",
        "def lemmatization_nltk(texto):\n",
        "  lemma_text = []\n",
        "  for i in texto:\n",
        "    lemma_text.append(wnl.lemmatize(i))\n",
        "\n",
        "  return lemma_text"
      ],
      "metadata": {
        "id": "-41jpW_J0Hln"
      },
      "execution_count": null,
      "outputs": []
    },
    {
      "cell_type": "code",
      "source": [
        "lemmatization_nltk(texto_prueba_2)"
      ],
      "metadata": {
        "id": "-0vKnME60u2-"
      },
      "execution_count": null,
      "outputs": []
    },
    {
      "cell_type": "code",
      "source": [
        "#remove special character\n",
        "def remove_special(texto_string):\n",
        "  test_str = ''.join(letter for letter in texto_string if letter.isalnum())\n",
        "\n",
        "  return test_str\n"
      ],
      "metadata": {
        "id": "h2T-5nIu1m_C"
      },
      "execution_count": null,
      "outputs": []
    },
    {
      "cell_type": "code",
      "source": [
        "string_example = \"pru;eba, * en:, ! diploma;do, * e*p:s !\"\n",
        "remove_special(string_example)"
      ],
      "metadata": {
        "id": "EEYcnZsM2Ayg"
      },
      "execution_count": null,
      "outputs": []
    },
    {
      "cell_type": "code",
      "source": [
        "#remove special character\n",
        "def remove_special_2(texto_string):\n",
        "  #lista de caracteres especiales\n",
        "  bad_chars = [';', ':', '!', \"*\", \" \"]\n",
        "  test_string = ''.join(i for i in texto_string if not i in bad_chars)\n",
        "\n",
        "  return test_string"
      ],
      "metadata": {
        "id": "AM6tHtc42Qx1"
      },
      "execution_count": null,
      "outputs": []
    },
    {
      "cell_type": "code",
      "source": [
        "string_example = \"pru;eba, * en:, ! diploma;do, * e*p:s !\"\n",
        "string_without = remove_special_2(string_example)\n",
        "print(string_without)\n",
        "print(string_without.split(\",\"))"
      ],
      "metadata": {
        "id": "i_eNEbZS29K1"
      },
      "execution_count": null,
      "outputs": []
    },
    {
      "cell_type": "code",
      "source": [],
      "metadata": {
        "id": "QwTxSfP6ysqk"
      },
      "execution_count": null,
      "outputs": []
    }
  ]
}