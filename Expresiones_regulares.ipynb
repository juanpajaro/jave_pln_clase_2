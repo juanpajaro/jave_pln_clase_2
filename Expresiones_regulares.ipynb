{
  "nbformat": 4,
  "nbformat_minor": 0,
  "metadata": {
    "colab": {
      "provenance": [],
      "authorship_tag": "ABX9TyNnxOIpBBdK8pGcRIr79Atc",
      "include_colab_link": true
    },
    "kernelspec": {
      "name": "python3",
      "display_name": "Python 3"
    },
    "language_info": {
      "name": "python"
    }
  },
  "cells": [
    {
      "cell_type": "markdown",
      "metadata": {
        "id": "view-in-github",
        "colab_type": "text"
      },
      "source": [
        "<a href=\"https://colab.research.google.com/github/juanpajaro/jave_pln_clase_2/blob/main/Expresiones_regulares.ipynb\" target=\"_parent\"><img src=\"https://colab.research.google.com/assets/colab-badge.svg\" alt=\"Open In Colab\"/></a>"
      ]
    },
    {
      "cell_type": "code",
      "execution_count": null,
      "metadata": {
        "id": "VCzvUjjQ5znw"
      },
      "outputs": [],
      "source": [
        "import re"
      ]
    },
    {
      "cell_type": "code",
      "source": [
        "#concidir con el inicio de una expresión\n",
        "print(re.search(r\"^x\", \"xenon\"))"
      ],
      "metadata": {
        "id": "o7ilNVWH56Qc"
      },
      "execution_count": null,
      "outputs": []
    },
    {
      "cell_type": "code",
      "source": [
        "#no coincide de otra forma\n",
        "print(re.search(r\"^x\", \"nxoxn\"))"
      ],
      "metadata": {
        "id": "i8VbfMWR5-9v"
      },
      "execution_count": null,
      "outputs": []
    },
    {
      "cell_type": "code",
      "source": [
        "#coincidir con el final de la expresión\n",
        "print(re.search(r\"n$\", \"xenon\"))"
      ],
      "metadata": {
        "id": "ZUQ6bXeE6HYX"
      },
      "execution_count": null,
      "outputs": []
    },
    {
      "cell_type": "code",
      "source": [
        "#no coincide si no cumple con la condición final\n",
        "print(re.search(r\"n$\", \"xenom\"))"
      ],
      "metadata": {
        "id": "dsvfN-Dc6KwF"
      },
      "execution_count": null,
      "outputs": []
    },
    {
      "cell_type": "code",
      "source": [
        "\"\"\"Character classes\"\"\"\n",
        "#concidir con cualquier caracter\n",
        "print(re.search(r\"[Pp]ython\", \"Python2\"))"
      ],
      "metadata": {
        "id": "hvdriqv06L8_"
      },
      "execution_count": null,
      "outputs": []
    },
    {
      "cell_type": "code",
      "source": [
        "#coincidir con el primer espacio en la oracion\n",
        "print(re.search(r\"[^a-zA-Z]\", \"This is a sentences with spaces.\"))"
      ],
      "metadata": {
        "id": "eOzdgils6OfD"
      },
      "execution_count": null,
      "outputs": []
    },
    {
      "cell_type": "code",
      "source": [
        "#coindir con el punto al final porque se excluyo el espacio que no queremos coincidir\n",
        "print(re.search(r\"[^a-zA-Z ]\", \"This is a sentences with spaces.\"))"
      ],
      "metadata": {
        "id": "7jMkBp_56X2S"
      },
      "execution_count": null,
      "outputs": []
    },
    {
      "cell_type": "code",
      "source": [
        "#se pueden hacer combinaciones para multiples caracteres sensibles sin repeticiones\n",
        "print(re.search(r\"nub[a-zA-Z0-9]\", \"nuberoooon\"))"
      ],
      "metadata": {
        "id": "rHRzSpRs6cFa"
      },
      "execution_count": null,
      "outputs": []
    },
    {
      "cell_type": "code",
      "source": [
        "#para la repeticiones de caracteres o secuencia requerida se deben hacer combinaciones\n",
        "print(re.search(r\"[Nn].*on\", \"nuberoooon\"))"
      ],
      "metadata": {
        "id": "5ggZWRg86i3K"
      },
      "execution_count": null,
      "outputs": []
    },
    {
      "cell_type": "code",
      "source": [
        "#llegara hasta la última letra\n",
        "print(re.search(r\"[P].*n\", \"Papiton\"))"
      ],
      "metadata": {
        "id": "dt3-P7Is6kss"
      },
      "execution_count": null,
      "outputs": []
    },
    {
      "cell_type": "code",
      "source": [
        "#Fill in the code to check if the text passed contains the vowels a, e and i,\n",
        "#with exactly one occurrence of any other character in between.\n",
        "#raw  = r\n",
        "def check_aei (text):\n",
        "  result = re.search(r\"None\", text)\n",
        "  return result != None"
      ],
      "metadata": {
        "id": "nN1mA7xu6lqz"
      },
      "execution_count": null,
      "outputs": []
    },
    {
      "cell_type": "code",
      "source": [
        "print(check_aei(\"acedemia\")) # False\n",
        "print(check_aei(\"aerial\")) # False\n",
        "print(check_aei(\"paramedic\")) # True"
      ],
      "metadata": {
        "id": "-QHeRwpN7XnP"
      },
      "execution_count": null,
      "outputs": []
    },
    {
      "cell_type": "code",
      "source": [
        "#Fill in the code to check if the text passed contains punctuation symbols:\n",
        "#commas, periods, colons, semicolons, question marks, and exclamation points.\n",
        "def check_punctuation (text):\n",
        "  result = re.search(r\"None\", text)\n",
        "  return result != None"
      ],
      "metadata": {
        "id": "fuxcdTon7UC4"
      },
      "execution_count": null,
      "outputs": []
    },
    {
      "cell_type": "code",
      "source": [
        "print(check_punctuation(\"Esta es una cadena que termina en punto.\")) # True\n",
        "print(check_punctuation(\"Esta no tienen signos de puntuación\")) # False\n",
        "print(check_punctuation(\"¿Esta se asemeja a una pregunta?\")) # True\n",
        "print(check_punctuation(\"Que chevere aprender python!\")) # True\n",
        "print(check_punctuation(\"Esto es el final de los ejemplos\")) # False"
      ],
      "metadata": {
        "id": "88UctGwA7VmG"
      },
      "execution_count": null,
      "outputs": []
    },
    {
      "cell_type": "code",
      "source": [
        "#The repeating_letter_a function checks if the text passed includes the\n",
        "#letter \"a\" (lowercase or uppercase) at least twice. For example,\n",
        "#repeating_letter_a(\"banana\") is True, while repeating_letter_a(\"pineapple\")\n",
        "#is False. Fill in the code to make this work.\n",
        "def repeating_letter_a(text):\n",
        "  result = re.search(r\"None\", text)\n",
        "  return result != None"
      ],
      "metadata": {
        "id": "CmrLvvJj7gIJ"
      },
      "execution_count": null,
      "outputs": []
    },
    {
      "cell_type": "code",
      "source": [
        "print(repeating_letter_a(\"banana\")) # True\n",
        "print(repeating_letter_a(\"pineapple\")) # False\n",
        "print(repeating_letter_a(\"Animal Kingdom\")) # True\n",
        "print(repeating_letter_a(\"A is for apple\")) # True"
      ],
      "metadata": {
        "id": "a_-A01qd7iLo"
      },
      "execution_count": null,
      "outputs": []
    },
    {
      "cell_type": "code",
      "source": [
        "#Fill in the code to check if the text passed has at least 2 groups of\n",
        "#alphanumeric characters (including letters, numbers, and underscores)\n",
        "#separated by one or more whitespace characters.\n",
        "def check_character_groups(text):\n",
        "  result = re.search(r\"None\", text)\n",
        "  return result != None"
      ],
      "metadata": {
        "id": "hwoPEqxc7i6X"
      },
      "execution_count": null,
      "outputs": []
    },
    {
      "cell_type": "code",
      "source": [
        "print(check_character_groups(\"One\")) # False\n",
        "print(check_character_groups(\"123  Ready Set GO\")) # True\n",
        "print(check_character_groups(\"username user_01\")) # True\n",
        "print(check_character_groups(\"shopping_list: milk, bread, eggs.\")) # False"
      ],
      "metadata": {
        "id": "a3w8IkRT7ofk"
      },
      "execution_count": null,
      "outputs": []
    },
    {
      "cell_type": "code",
      "source": [
        "#Fill in the code to check if the text passed looks like a standard sentence,\n",
        "#meaning that it starts with an uppercase letter, followed by at least some\n",
        "#lowercase letters or a space, and ends with a period, question mark, or\n",
        "#exclamation point.\n",
        "def check_sentence(text):\n",
        "  result = re.search(r\"None\", text)\n",
        "  return result != None"
      ],
      "metadata": {
        "id": "-u43U0-f7tuu"
      },
      "execution_count": null,
      "outputs": []
    },
    {
      "cell_type": "code",
      "source": [
        "print(check_sentence(\"Is this is a sentence?\")) # True\n",
        "print(check_sentence(\"is this is a sentence?\")) # False\n",
        "print(check_sentence(\"Hello\")) # False\n",
        "print(check_sentence(\"1-2-3-GO!\")) # False\n",
        "print(check_sentence(\"A star is born.\")) # True"
      ],
      "metadata": {
        "id": "ma31UGi579d1"
      },
      "execution_count": null,
      "outputs": []
    }
  ]
}